{
 "cells": [
  {
   "cell_type": "markdown",
   "id": "ebb26862-e5fd-4a9b-a69c-30012b06050d",
   "metadata": {},
   "source": [
    "# Object Oriented Programming - Practice\n",
    "> Writing a Standard Scaler from Scratch\n",
    "\n",
    "In this notebook, we walkthrough the process of coding sklearn's StandardScaler class from scratch."
   ]
  },
  {
   "cell_type": "code",
   "execution_count": 1,
   "id": "a88a91f9-b4f6-479c-bbbd-67c2f157f96d",
   "metadata": {},
   "outputs": [
    {
     "data": {
      "text/html": [
       "<div>\n",
       "<style scoped>\n",
       "    .dataframe tbody tr th:only-of-type {\n",
       "        vertical-align: middle;\n",
       "    }\n",
       "\n",
       "    .dataframe tbody tr th {\n",
       "        vertical-align: top;\n",
       "    }\n",
       "\n",
       "    .dataframe thead th {\n",
       "        text-align: right;\n",
       "    }\n",
       "</style>\n",
       "<table border=\"1\" class=\"dataframe\">\n",
       "  <thead>\n",
       "    <tr style=\"text-align: right;\">\n",
       "      <th></th>\n",
       "      <th>age</th>\n",
       "      <th>sex</th>\n",
       "      <th>bmi</th>\n",
       "      <th>bp</th>\n",
       "      <th>s1</th>\n",
       "      <th>s2</th>\n",
       "      <th>s3</th>\n",
       "      <th>s4</th>\n",
       "      <th>s5</th>\n",
       "      <th>s6</th>\n",
       "      <th>target</th>\n",
       "    </tr>\n",
       "  </thead>\n",
       "  <tbody>\n",
       "    <tr>\n",
       "      <th>0</th>\n",
       "      <td>0.038076</td>\n",
       "      <td>0.050680</td>\n",
       "      <td>0.061696</td>\n",
       "      <td>0.021872</td>\n",
       "      <td>-0.044223</td>\n",
       "      <td>-0.034821</td>\n",
       "      <td>-0.043401</td>\n",
       "      <td>-0.002592</td>\n",
       "      <td>0.019908</td>\n",
       "      <td>-0.017646</td>\n",
       "      <td>151.0</td>\n",
       "    </tr>\n",
       "    <tr>\n",
       "      <th>1</th>\n",
       "      <td>-0.001882</td>\n",
       "      <td>-0.044642</td>\n",
       "      <td>-0.051474</td>\n",
       "      <td>-0.026328</td>\n",
       "      <td>-0.008449</td>\n",
       "      <td>-0.019163</td>\n",
       "      <td>0.074412</td>\n",
       "      <td>-0.039493</td>\n",
       "      <td>-0.068330</td>\n",
       "      <td>-0.092204</td>\n",
       "      <td>75.0</td>\n",
       "    </tr>\n",
       "  </tbody>\n",
       "</table>\n",
       "</div>"
      ],
      "text/plain": [
       "        age       sex       bmi        bp        s1        s2        s3  \\\n",
       "0  0.038076  0.050680  0.061696  0.021872 -0.044223 -0.034821 -0.043401   \n",
       "1 -0.001882 -0.044642 -0.051474 -0.026328 -0.008449 -0.019163  0.074412   \n",
       "\n",
       "         s4        s5        s6  target  \n",
       "0 -0.002592  0.019908 -0.017646   151.0  \n",
       "1 -0.039493 -0.068330 -0.092204    75.0  "
      ]
     },
     "execution_count": 1,
     "metadata": {},
     "output_type": "execute_result"
    }
   ],
   "source": [
    "# Run this cell unchanged\n",
    "# Import assignment packages\n",
    "import pandas as pd\n",
    "import numpy as np\n",
    "from sklearn.datasets import load_diabetes\n",
    "from sklearn.model_selection import train_test_split\n",
    "\n",
    "# Load data\n",
    "data = load_diabetes()\n",
    "df = pd.DataFrame(data['data'], columns = data['feature_names'])\n",
    "df['target'] = data['target']\n",
    "\n",
    "# Output preview of data\n",
    "df.head(2)"
   ]
  },
  {
   "cell_type": "code",
   "execution_count": null,
   "id": "1498f78f-2277-4502-afbf-280eb0415ed8",
   "metadata": {},
   "outputs": [],
   "source": [
    "#__SOLUTION__\n",
    "# Run this cell unchanged\n",
    "# Import assignment packages\n",
    "import pandas as pd\n",
    "import numpy as np\n",
    "from sklearn.datasets import load_diabetes\n",
    "from sklearn.model_selection import train_test_split\n",
    "\n",
    "# Load data\n",
    "data = load_diabetes()\n",
    "df = pd.DataFrame(data['data'], columns = data['feature_names'])\n",
    "df['target'] = data['target']\n",
    "\n",
    "# Output preview of data\n",
    "df.head(2)"
   ]
  },
  {
   "cell_type": "markdown",
   "id": "a60a236a-f276-4f53-8880-ec7f29e0e4e8",
   "metadata": {},
   "source": [
    "**Let's set up a train test split for our dataset**"
   ]
  },
  {
   "cell_type": "code",
   "execution_count": 2,
   "id": "372c1284-0113-42de-9aa2-5fa5976caa26",
   "metadata": {},
   "outputs": [],
   "source": [
    "# Run this cell unchanged\n",
    "X = df.drop('target', axis = 1)\n",
    "y = df.target\n",
    "X_train, X_test, y_train, y_test = train_test_split(X, y, random_state=2021)"
   ]
  },
  {
   "cell_type": "code",
   "execution_count": null,
   "id": "369cf9ec-535d-48a9-9fb2-64d865837b5d",
   "metadata": {},
   "outputs": [],
   "source": [
    "#__SOLUTION__\n",
    "# Run this cell unchanged\n",
    "X = df.drop('target', axis = 1)\n",
    "y = df.target\n",
    "X_train, X_test, y_train, y_test = train_test_split(X, y, random_state=2021)"
   ]
  },
  {
   "cell_type": "markdown",
   "id": "3b7d5724-306d-4d22-b7a5-d900c2cace46",
   "metadata": {},
   "source": [
    "**The process we will move through in this notebook will be the following:**\n",
    "1. Write `fit` and `transform` functions ***outside*** of a class. \n",
    "    * We want to get the code working before we throw it into a class.\n",
    "    \n",
    "2. Create a `StandardScaler` class with `fit` and `transform` methods\n",
    "    * We will need to add the `self` variable during this step. \n",
    "    \n",
    "3. Compare our results with Sklearn's"
   ]
  },
  {
   "cell_type": "markdown",
   "id": "b92ad5be-920c-4a96-8d0d-82ce45ba39ea",
   "metadata": {},
   "source": [
    "### fit"
   ]
  },
  {
   "cell_type": "markdown",
   "id": "7ebc1c16-dbea-4298-8dec-121ffc4cb177",
   "metadata": {},
   "source": [
    "In the cell below, we have defined a function called `fit`. \n",
    "\n",
    "**This function should receive 1 argument.**\n",
    "1. `X` - A pandas dataframe or numpy array\n",
    "\n",
    "**This function should execute the following steps:**\n",
    "1. Convert `X` to a numpy array by passing the input into `np.array`.\n",
    "    * To loop over the index of a pandas dataframe, we use `.iloc`, ie `df.iloc[:,0]` will return the first column of a dataframe, but numpy does not have an `.iloc` method. To avoid an error, the easiest solution is to ensure the input is a numpy array.\n",
    "    \n",
    "3. Loop over the columns of the numpy array.\n",
    "4. For each column, calculate the mean and standard deviation\n",
    "5. Store the statistics in the container as a tuple with the following format:\n",
    "```python\n",
    "(mean, standard_deviation)\n",
    "```"
   ]
  },
  {
   "cell_type": "code",
   "execution_count": null,
   "id": "987fd278-2660-43ec-8de8-7b46f3c41a1b",
   "metadata": {},
   "outputs": [],
   "source": [
    "container = []\n",
    "\n",
    "def fit(X):\n",
    "    # Convert X to a numpy array by passing the input into np.array\n",
    "    \n",
    "    # Loop over the columns of the numpy array.\n",
    "    \n",
    "        # For each column, calculate the mean and standard deviation\n",
    "        \n",
    "        # Store the statistics in the container"
   ]
  },
  {
   "cell_type": "code",
   "execution_count": 4,
   "id": "ca864983-9ed7-46ef-bc67-f3125d75dd92",
   "metadata": {},
   "outputs": [],
   "source": [
    "#__SOLUTION__\n",
    "container = []\n",
    "\n",
    "def fit(X):\n",
    "    # Convert X to a numpy array by passing the input into np.array\n",
    "    X_ = np.array(X)\n",
    "    # Loop over the columns of the numpy array.\n",
    "    for column in range(X_.shape[1]):\n",
    "        # For each column, calculate the mean and standard deviation\n",
    "        mean = X_[:, column].mean()\n",
    "        std = X_[:, column].std()\n",
    "        # Store the statistics in the container\n",
    "        container.append((mean, std))"
   ]
  },
  {
   "cell_type": "markdown",
   "id": "6be67f15-fa67-4b0b-97d2-0444ed5c94c5",
   "metadata": {},
   "source": [
    "Let's test our function on our X_train"
   ]
  },
  {
   "cell_type": "code",
   "execution_count": 6,
   "id": "e2ce6a79-bb88-417c-8e38-e85d07fbece0",
   "metadata": {},
   "outputs": [
    {
     "name": "stdout",
     "output_type": "stream",
     "text": [
      "✅ The fit function added the correct data to the container!\n"
     ]
    }
   ],
   "source": [
    "# Run this cell unchanged\n",
    "\n",
    "from src.public_tests import test_fit\n",
    "# Create container\n",
    "container = []\n",
    "# Run fit function\n",
    "fit(X_train)\n",
    "# Test results\n",
    "test_fit(container)"
   ]
  },
  {
   "cell_type": "code",
   "execution_count": null,
   "id": "6d6824c6-c312-413d-b077-3d9a358d7992",
   "metadata": {},
   "outputs": [],
   "source": [
    "#__SOLUTION__\n",
    "# Run this cell unchanged\n",
    "\n",
    "from src.public_tests import test_fit\n",
    "# Create container\n",
    "container = []\n",
    "# Run fit function\n",
    "fit(X_train)\n",
    "# Test results\n",
    "test_fit(container)"
   ]
  },
  {
   "cell_type": "markdown",
   "id": "b2d4cffa-81c7-45aa-a708-f21af07c4659",
   "metadata": {},
   "source": [
    "### transform\n",
    "\n",
    "Below we define function called `transform`. \n",
    "\n",
    "**This function should receive 1 argument**\n",
    "1. `X` - Pandas dataframe or numpy array\n",
    "\n",
    "**This function should execute the following steps:**\n",
    "1. Convert X to a numpy array by passing the input into np.array\n",
    "2. Loop over the columns of X\n",
    "3. Access the mean and standard deviation that were created from the `fit` function and stored in the container variable.\n",
    "4. Subtract the mean from the column and divide by the standard deviation.\n",
    "5. Return the transformed version of X"
   ]
  },
  {
   "cell_type": "code",
   "execution_count": null,
   "id": "0924161a-34c0-4b90-9f66-76a2d18408bd",
   "metadata": {},
   "outputs": [],
   "source": [
    "def transform(X):\n",
    "    # Convert X to a numpy array by passing the input into np.array\n",
    "    \n",
    "    # Loop over the columns of X\n",
    "    \n",
    "        # Access the mean and standard deviation that were \n",
    "        # created from the fit function and stored in the container variable.\n",
    "        \n",
    "        # Subtract the mean from the column \n",
    "        # and divide by the standard deviation.\n",
    "        \n",
    "    # Return the transformed version of X"
   ]
  },
  {
   "cell_type": "code",
   "execution_count": 7,
   "id": "0fb79b51-103c-48c8-9b4c-84c12c665b02",
   "metadata": {},
   "outputs": [],
   "source": [
    "#__SOLUTION__\n",
    "def transform(X):\n",
    "    # Convert X to a numpy array by passing the input into np.array\n",
    "    X_ = np.array(X)\n",
    "    # Loop over the columns of X\n",
    "    for column in range(X_.shape[1]):\n",
    "        # Access the mean and standard deviation that were \n",
    "        # created from the fit function and stored in the container variable.\n",
    "        mean = container[column][0]\n",
    "        std = container[column][1]\n",
    "        # Subtract the mean from the column \n",
    "        # and divide by the standard deviation.\n",
    "        X_[:, column] = (X_[:, column] - mean)/std\n",
    "    # Return the transformed version of X  \n",
    "    return X_"
   ]
  },
  {
   "cell_type": "markdown",
   "id": "94f715f8-16f0-46db-aa29-4d82a371e42d",
   "metadata": {},
   "source": [
    "Let's test our `transform` function on the training data!"
   ]
  },
  {
   "cell_type": "code",
   "execution_count": 9,
   "id": "9b591a5f-a81a-4cd3-bb19-8ebf03d58ee7",
   "metadata": {},
   "outputs": [
    {
     "name": "stdout",
     "output_type": "stream",
     "text": [
      "✅ The transform function returned the correct data!\n"
     ]
    }
   ],
   "source": [
    "from src.public_tests import test_transform\n",
    "\n",
    "container = []\n",
    "fit(X_train)\n",
    "X_train_scaled = transform(X_train)\n",
    "test_transform(X_train_scaled[:5])"
   ]
  },
  {
   "cell_type": "code",
   "execution_count": null,
   "id": "4297fe79-7749-4589-bd82-30c2d05fb563",
   "metadata": {},
   "outputs": [],
   "source": [
    "#__SOLUTION__\n",
    "from src.public_tests import test_transform\n",
    "\n",
    "container = []\n",
    "fit(X_train)\n",
    "X_train_scaled = transform(X_train)\n",
    "test_transform(X_train_scaled[:5])"
   ]
  },
  {
   "cell_type": "markdown",
   "id": "5de0da2a-8fc5-4fcb-b0b2-fc63189f7cf9",
   "metadata": {},
   "source": [
    "## Move our code into a `StandardScaler` class!\n",
    "\n",
    "**Please complete the StandardScaler class**"
   ]
  },
  {
   "cell_type": "code",
   "execution_count": null,
   "id": "82ac7cc0-1218-4dc3-988d-0832cf2d0090",
   "metadata": {},
   "outputs": [],
   "source": [
    "class StandardScaler:\n",
    "    \n",
    "    def fit():\n",
    "        \n",
    "    def transform():"
   ]
  },
  {
   "cell_type": "code",
   "execution_count": 10,
   "id": "af802c94-d26a-433c-a00b-490235a89c84",
   "metadata": {},
   "outputs": [],
   "source": [
    "#__SOLUTION__\n",
    "class StandardScaler:\n",
    "    \n",
    "    def fit(self, X):\n",
    "        # Create a container to store the statistics\n",
    "        self.data = []\n",
    "        # Convert X to a numpy array by passing the input into np.array\n",
    "        X_ = np.array(X)\n",
    "        # Loop over the columns of the numpy array.\n",
    "        for column in range(X_.shape[1]):\n",
    "            # For each column, calculate the mean and standard deviation\n",
    "            mean = X_[:, column].mean()\n",
    "            std = X_[:, column].std()\n",
    "            # Store the statistics in the container\n",
    "            self.data.append((mean, std))\n",
    "            \n",
    "    def transform(self, X):\n",
    "        # Convert X to a numpy array by passing the input into np.array\n",
    "        X_ = np.array(X)\n",
    "        # Loop over the columns of X\n",
    "        for column in range(X_.shape[1]):\n",
    "            # Access the mean and standard deviation that were \n",
    "            # created from the fit function and stored in the container variable.\n",
    "            mean = self.data[column][0]\n",
    "            std = self.data[column][1]\n",
    "            # Subtract the mean from the column \n",
    "            # and divide by the standard deviation.\n",
    "            X_[:, column] = (X_[:, column] - mean)/std\n",
    "        # Return the transformed version of X  \n",
    "        return X_"
   ]
  },
  {
   "cell_type": "markdown",
   "id": "a5025f42-a567-4124-9f06-966f6d6eef94",
   "metadata": {},
   "source": [
    "Now let's compare our results with Sklearn's scaler!"
   ]
  },
  {
   "cell_type": "code",
   "execution_count": 11,
   "id": "5e4c6ea2-8127-4cba-afbf-ff1c71e60b76",
   "metadata": {},
   "outputs": [],
   "source": [
    "from sklearn.preprocessing import StandardScaler as SklearnScaler"
   ]
  },
  {
   "cell_type": "code",
   "execution_count": null,
   "id": "e0a64b15-a978-4c0b-8f7f-d49440134caf",
   "metadata": {},
   "outputs": [],
   "source": [
    "#__SOLUTION__\n",
    "from sklearn.preprocessing import StandardScaler as SklearnScaler"
   ]
  },
  {
   "cell_type": "code",
   "execution_count": 12,
   "id": "e2473193-17ee-4c15-beb8-d8f124f70dc0",
   "metadata": {},
   "outputs": [
    {
     "data": {
      "text/plain": [
       "StandardScaler()"
      ]
     },
     "execution_count": 12,
     "metadata": {},
     "output_type": "execute_result"
    }
   ],
   "source": [
    "# Create an instance of our scaler\n",
    "our_scaler = StandardScaler()\n",
    "our_scaler.fit(X_train)\n",
    "\n",
    "# Create an instance of sklearn's scaler\n",
    "sk_scaler = SklearnScaler()\n",
    "sk_scaler.fit(X_train)"
   ]
  },
  {
   "cell_type": "code",
   "execution_count": null,
   "id": "9c2791d4-ec33-4494-a6bd-e53a4ad877fb",
   "metadata": {},
   "outputs": [],
   "source": [
    "#__SOLUTION__\n",
    "# Create an instance of our scaler\n",
    "our_scaler = StandardScaler()\n",
    "our_scaler.fit(X_train)\n",
    "\n",
    "# Create an instance of sklearn's scaler\n",
    "sk_scaler = SklearnScaler()\n",
    "sk_scaler.fit(X_train)"
   ]
  },
  {
   "cell_type": "code",
   "execution_count": 13,
   "id": "f127e86b-4ceb-4299-b1b7-1fb8218aaa90",
   "metadata": {},
   "outputs": [],
   "source": [
    "# Scaler train with our scaler\n",
    "our_scaled_train = our_scaler.transform(X_train)\n",
    "sk_scaled_train = sk_scaler.transform(X_train)\n",
    "\n",
    "# Scaler test with our scaler\n",
    "our_scaled_test = our_scaler.transform(X_test)\n",
    "sk_scaled_test = sk_scaler.transform(X_test)"
   ]
  },
  {
   "cell_type": "code",
   "execution_count": null,
   "id": "9a53bf08-fbdb-4285-98a0-c581620cc859",
   "metadata": {},
   "outputs": [],
   "source": [
    "#__SOLUTION__\n",
    "# Scaler train with our scaler\n",
    "our_scaled_train = our_scaler.transform(X_train)\n",
    "sk_scaled_train = sk_scaler.transform(X_train)\n",
    "\n",
    "# Scaler test with our scaler\n",
    "our_scaled_test = our_scaler.transform(X_test)\n",
    "sk_scaled_test = sk_scaler.transform(X_test)"
   ]
  },
  {
   "cell_type": "code",
   "execution_count": 14,
   "id": "3ef61945-2408-4684-ab0e-0319dd1041ea",
   "metadata": {},
   "outputs": [
    {
     "data": {
      "text/plain": [
       "True"
      ]
     },
     "execution_count": 14,
     "metadata": {},
     "output_type": "execute_result"
    }
   ],
   "source": [
    "# Check if our scaled train is the same as sklearn's\n",
    "np.all(our_scaled_train == sk_scaled_train)"
   ]
  },
  {
   "cell_type": "code",
   "execution_count": null,
   "id": "fcea30d5-4be4-449f-a0b1-675a3289e0db",
   "metadata": {},
   "outputs": [],
   "source": [
    "#__SOLUTION__\n",
    "# Check if our scaled train is the same as sklearn's\n",
    "np.all(our_scaled_train == sk_scaled_train)"
   ]
  },
  {
   "cell_type": "code",
   "execution_count": 15,
   "id": "c9f913b4-b2f4-422f-b272-4cbfdf0be655",
   "metadata": {},
   "outputs": [
    {
     "data": {
      "text/plain": [
       "True"
      ]
     },
     "execution_count": 15,
     "metadata": {},
     "output_type": "execute_result"
    }
   ],
   "source": [
    "# Check if our scaled test is the same as sklearn's\n",
    "np.all(our_scaled_test == sk_scaled_test)"
   ]
  },
  {
   "cell_type": "code",
   "execution_count": null,
   "id": "c6d987e7-2ade-4ce2-acbc-44d5ae76991a",
   "metadata": {},
   "outputs": [],
   "source": [
    "#__SOLUTION__\n",
    "# Check if our scaled test is the same as sklearn's\n",
    "np.all(our_scaled_test == sk_scaled_test)"
   ]
  }
 ],
 "metadata": {
  "kernelspec": {
   "display_name": "Python 3",
   "language": "python",
   "name": "python3"
  },
  "language_info": {
   "codemirror_mode": {
    "name": "ipython",
    "version": 3
   },
   "file_extension": ".py",
   "mimetype": "text/x-python",
   "name": "python",
   "nbconvert_exporter": "python",
   "pygments_lexer": "ipython3",
   "version": "3.7.4"
  }
 },
 "nbformat": 4,
 "nbformat_minor": 5
}
